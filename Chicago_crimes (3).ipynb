{
 "cells": [
  {
   "cell_type": "code",
   "execution_count": null,
   "id": "b6cb6d69",
   "metadata": {},
   "outputs": [],
   "source": [
    "import pandas as pd\n",
    "import numpy as np\n",
    "import matplotlib.pyplot as plt\n",
    "%matplotlib inline\n",
    "plt.style.use('seaborn')\n",
    "import plotly.express as px\n",
    "import folium"
   ]
  },
  {
   "cell_type": "code",
   "execution_count": null,
   "id": "7b4cc1b2",
   "metadata": {},
   "outputs": [],
   "source": [
    "df= pd.read_csv(\"/Users/koushal/Downloads/Crimes_-_2001_to_Present.csv\")"
   ]
  },
  {
   "cell_type": "code",
   "execution_count": null,
   "id": "9a529c14",
   "metadata": {},
   "outputs": [],
   "source": [
    "df.drop([ 'Case Number', 'IUCR','Updated On','Year', 'FBI Code', 'Beat','Ward','Community Area', 'Location'], inplace=True, axis=1)\n",
    "\n"
   ]
  },
  {
   "cell_type": "code",
   "execution_count": null,
   "id": "d1d1d394",
   "metadata": {},
   "outputs": [],
   "source": [
    "df"
   ]
  },
  {
   "cell_type": "code",
   "execution_count": null,
   "id": "b4244056",
   "metadata": {},
   "outputs": [],
   "source": [
    "df.Date = pd.to_datetime(df.Date, format='%m/%d/%Y %I:%M:%S %p')\n",
    "# setting the index to be the date will help us a lot later on\n",
    "df.index = pd.DatetimeIndex(df.Date)"
   ]
  },
  {
   "cell_type": "code",
   "execution_count": null,
   "id": "a3a9b2df",
   "metadata": {},
   "outputs": [],
   "source": []
  },
  {
   "cell_type": "code",
   "execution_count": null,
   "id": "2c5da313",
   "metadata": {},
   "outputs": [],
   "source": [
    "df.dropna(inplace=True)"
   ]
  },
  {
   "cell_type": "code",
   "execution_count": null,
   "id": "fae14b52",
   "metadata": {},
   "outputs": [],
   "source": [
    "loc_to_change  = list(df['Location Description'].value_counts()[20:].index)\n",
    "desc_to_change = list(df['Description'].value_counts()[20:].index)\n",
    "#type_to_change = list(crimes['Primary Type'].value_counts()[20:].index)\n",
    "\n",
    "df.loc[df['Location Description'].isin(loc_to_change) , df.columns=='Location Description'] = 'OTHER'\n",
    "df.loc[df['Description'].isin(desc_to_change) , df.columns=='Description'] = 'OTHER'\n",
    "#crimes.loc[crimes['Primary Type'].isin(type_to_change) , crimes.columns=='Primary Type'] = 'OTHER'\n",
    "# we convert those 3 columns into 'Categorical' types -- works like 'factor' in R\n",
    "df['Primary Type']         = pd.Categorical(df['Primary Type'])\n",
    "df['Location Description'] = pd.Categorical(df['Location Description'])\n",
    "df['Description']          = pd.Categorical(df['Description'])"
   ]
  },
  {
   "cell_type": "code",
   "execution_count": null,
   "id": "61f1007c",
   "metadata": {},
   "outputs": [],
   "source": [
    "df"
   ]
  },
  {
   "cell_type": "code",
   "execution_count": null,
   "id": "4ff04e0b",
   "metadata": {},
   "outputs": [],
   "source": [
    "plt.figure(figsize=(11,5))\n",
    "df.resample('M').size().plot(legend=False)\n",
    "plt.title('Number of crimes per month (2001 - 2020)')\n",
    "plt.xlabel('Year')\n",
    "plt.ylabel('Number of crimes')\n",
    "plt.show()"
   ]
  },
  {
   "cell_type": "code",
   "execution_count": null,
   "id": "6cab1049",
   "metadata": {},
   "outputs": [],
   "source": [
    "plt.figure(figsize=(11,4))\n",
    "df.resample('D').size().rolling(365).sum().plot()\n",
    "plt.title('Rolling sum of all crimes from 2002 - 2020')\n",
    "plt.ylabel('Number of crimes')\n",
    "plt.xlabel('Year')\n",
    "plt.show()"
   ]
  },
  {
   "cell_type": "code",
   "execution_count": null,
   "id": "79307f2c",
   "metadata": {},
   "outputs": [],
   "source": [
    "df_count_date = df.pivot_table('ID', aggfunc=np.size, columns='Primary Type', index=df.index.date, fill_value=0)\n",
    "df_count_date.index = pd.DatetimeIndex(df_count_date.index)\n",
    "plo = df_count_date.rolling(365).sum().plot(figsize=(20, 40), subplots=True, layout=(-1, 3), sharex=False, sharey=False)"
   ]
  },
  {
   "cell_type": "code",
   "execution_count": null,
   "id": "cd01a7d0",
   "metadata": {},
   "outputs": [],
   "source": [
    "\n",
    "import plotly.express as px\n",
    "\n",
    "# Assuming df is your DataFrame\n",
    "\n",
    "# Create a pivot table\n",
    "df_count_date = df.pivot_table('ID', aggfunc=np.size, columns='Primary Type', index=df.index.date, fill_value=0)\n",
    "\n",
    "# Convert index to DateTimeIndex\n",
    "df_count_date.index = pd.DatetimeIndex(df_count_date.index)\n",
    "\n",
    "# Calculate rolling sum over a 365-day window\n",
    "rolling_sum = df_count_date.rolling(365).sum()\n",
    "\n",
    "# Plotting\n",
    "fig = px.line(rolling_sum, x=rolling_sum.index, y=rolling_sum.columns, title='Rolling Sum of Crime Types',\n",
    "              labels={'value': 'Rolling Sum', 'index': 'Date', 'variable': 'Crime Type'},\n",
    "              line_shape=\"linear\", render_mode=\"svg\")\n",
    "\n",
    "# Update layout for better readability\n",
    "fig.update_layout(title_x=0.5, width=1000, height=800)\n",
    "\n",
    "fig.show()\n"
   ]
  },
  {
   "cell_type": "code",
   "execution_count": null,
   "id": "dd544d9a",
   "metadata": {},
   "outputs": [],
   "source": [
    "import pandas as pd\n",
    "import matplotlib.pyplot as plt\n",
    "\n",
    "# Assuming df is your DataFrame\n",
    "\n",
    "# Days of the week\n",
    "days = ['Monday', 'Tuesday', 'Wednesday', 'Thursday', 'Friday', 'Saturday', 'Sunday']\n",
    "\n",
    "# Group by day of the week and plot\n",
    "df.groupby(df.index.dayofweek).size().plot(kind='barh', color='skyblue', edgecolor='black', figsize=(10, 6))\n",
    "\n",
    "# Customize the plot\n",
    "plt.ylabel('Days of the Week')\n",
    "plt.yticks(range(7), days, rotation=0)  # Rotate the day labels for better readability\n",
    "plt.xlabel('Number of Crimes')\n",
    "plt.title('Number of Crimes by Day of the Week')\n",
    "plt.grid(axis='x', linestyle='--', alpha=0.6)  # Add horizontal grid lines\n",
    "\n",
    "# Show the plot\n",
    "plt.show()\n"
   ]
  },
  {
   "cell_type": "code",
   "execution_count": null,
   "id": "c58260a3",
   "metadata": {},
   "outputs": [],
   "source": [
    "\n",
    "import seaborn as sns  # Import seaborn for color palettes\n",
    "\n",
    "# Assuming crimes is your DataFrame\n",
    "\n",
    "# Choose a seaborn color palette with enough colors for your categories\n",
    "colors = sns.color_palette(\"viridis\", len(df['Primary Type'].unique()))\n",
    "\n",
    "# Plotting\n",
    "plt.figure(figsize=(10, 12))\n",
    "df.groupby(['Primary Type']).size().sort_values(ascending=True).plot(kind='barh', color=colors, edgecolor='black')\n",
    "\n",
    "# Customize the plot\n",
    "plt.title('Number of Crimes by Type')\n",
    "plt.xlabel('Number of Crimes')\n",
    "plt.ylabel('Crime Type')\n",
    "plt.grid(axis='x', linestyle='--', alpha=0.6)  # Add horizontal grid lines\n",
    "\n",
    "# Show the plot\n",
    "plt.show()\n"
   ]
  },
  {
   "cell_type": "code",
   "execution_count": null,
   "id": "4b1710bf",
   "metadata": {},
   "outputs": [],
   "source": [
    "import matplotlib.pyplot as plt\n",
    "import seaborn as sns\n",
    "\n",
    "# Assuming crimes is your DataFrame\n",
    "\n",
    "# Choose a seaborn color palette with enough colors for your categories\n",
    "colors = sns.color_palette(\"viridis\", len(df['Location Description'].unique()))\n",
    "\n",
    "# Plotting\n",
    "plt.figure(figsize=(8, 10))\n",
    "df.groupby(['Location Description']).size().sort_values(ascending=True).plot(kind='barh', color=colors, edgecolor='black')\n",
    "\n",
    "# Customize the plot\n",
    "plt.title('Number of Crimes by Location')\n",
    "plt.xlabel('Number of Crimes')\n",
    "plt.ylabel('Crime Location')\n",
    "plt.grid(axis='x', linestyle='--', alpha=0.6)  # Add horizontal grid lines\n",
    "\n",
    "# Show the plot\n",
    "plt.show()\n"
   ]
  },
  {
   "cell_type": "code",
   "execution_count": null,
   "id": "81c5ce27",
   "metadata": {},
   "outputs": [],
   "source": [
    "df"
   ]
  },
  {
   "cell_type": "code",
   "execution_count": null,
   "id": "52bb4ed5",
   "metadata": {},
   "outputs": [],
   "source": []
  },
  {
   "cell_type": "code",
   "execution_count": null,
   "id": "3d19b6a0",
   "metadata": {},
   "outputs": [],
   "source": [
    "df['Date'] = pd.to_datetime(df['Date'])\n",
    "df['Year'] = df['Date'].dt.year\n",
    "plt.figure(figsize=(12, 6))\n",
    "sns.countplot(x='Year', data=df)\n",
    "plt.title('Distribution of Crimes Over the Years')\n",
    "plt.show()"
   ]
  },
  {
   "cell_type": "code",
   "execution_count": null,
   "id": "78b3beb3",
   "metadata": {},
   "outputs": [],
   "source": [
    "df= pd.read_csv(\"/Users/koushal/Downloads/Crimes_-_2001_to_Present.csv\")"
   ]
  },
  {
   "cell_type": "code",
   "execution_count": null,
   "id": "9be69bb7",
   "metadata": {},
   "outputs": [],
   "source": [
    "df\n"
   ]
  },
  {
   "cell_type": "code",
   "execution_count": null,
   "id": "ab360b8a",
   "metadata": {},
   "outputs": [],
   "source": [
    "df.Date = pd.to_datetime(df.Date, format='%m/%d/%Y %I:%M:%S %p')\n",
    "# setting the index to be the date will help us a lot later on\n",
    "df.index = pd.DatetimeIndex(df.Date)\n",
    "df.dropna(inplace=True)\n",
    "loc_to_change  = list(df['Location Description'].value_counts()[20:].index)\n",
    "desc_to_change = list(df['Description'].value_counts()[20:].index)\n",
    "#type_to_change = list(crimes['Primary Type'].value_counts()[20:].index)\n",
    "\n",
    "df.loc[df['Location Description'].isin(loc_to_change) , df.columns=='Location Description'] = 'OTHER'\n",
    "df.loc[df['Description'].isin(desc_to_change) , df.columns=='Description'] = 'OTHER'\n",
    "#crimes.loc[crimes['Primary Type'].isin(type_to_change) , crimes.columns=='Primary Type'] = 'OTHER'\n",
    "# we convert those 3 columns into 'Categorical' types -- works like 'factor' in R\n",
    "df['Primary Type']         = pd.Categorical(df['Primary Type'])\n",
    "df['Location Description'] = pd.Categorical(df['Location Description'])\n",
    "df['Description']          = pd.Categorical(df['Description'])"
   ]
  },
  {
   "cell_type": "code",
   "execution_count": null,
   "id": "95642825",
   "metadata": {},
   "outputs": [],
   "source": [
    "df[['District', 'Ward','Community Area']] = df[['District', 'Ward','Community Area']].astype('int')\n",
    "df[['District', 'Ward','Community Area']] = df[['District', 'Ward','Community Area']].astype('str')\n",
    "df.columns= df.columns.str.strip().str.lower().str.replace(' ','_')\n",
    "style_function = lambda x: {'fillColor': '#ffffff', \n",
    "                            'color':'#000000', \n",
    "                            'fillOpacity': 0.1, \n",
    "                            'weight': 0.1}\n",
    "highlight_function = lambda x: {'fillColor': '#000000', \n",
    "                                'color':'#000000', \n",
    "                                'fillOpacity': 0.50, \n",
    "                                'weight': 0.1}"
   ]
  },
  {
   "cell_type": "code",
   "execution_count": null,
   "id": "16354d95",
   "metadata": {
    "scrolled": true
   },
   "outputs": [],
   "source": [
    "ward_geo = r'https://data.cityofchicago.org/api/geospatial/sp34-6z76?method=export&format=GeoJSON'\n",
    "\n",
    "WardData = pd.DataFrame(df['ward'].value_counts(ascending=True).astype(float))\n",
    "WardData = WardData.reset_index()\n",
    "WardData.columns = ['ward', 'Crime_Count']\n",
    " \n",
    "#myscale = (WardData['Crime_Count'].quantile((0, 0.50, 0.65, 0.90, 0.98, 1))).tolist()\n",
    "\n",
    "map1 = folium.Map(location=[41.815117282, -87.669999562], zoom_start=11,)# tiles='')\n",
    "map1.choropleth(geo_data = ward_geo, \n",
    "                data = WardData,\n",
    "                columns = ['ward', 'Crime_Count'],\n",
    "                key_on = 'feature.properties.ward',\n",
    "                fill_color = 'Reds', \n",
    "                fill_opacity = 0.7, \n",
    "                line_opacity = 0.2,\n",
    "                #tooltip = 'hi',\n",
    "                #threshold_scale=myscale, #[0, 50000, 100000, 150000, 200000, 300000],\n",
    "                highlight=True,\n",
    "                legend_name = 'Number of incidents per police ward')\n",
    "\n",
    "feature = folium.features.GeoJson(\n",
    "        ward_geo,\n",
    "        style_function=style_function,\n",
    "        control=False,\n",
    "        highlight_function=highlight_function,\n",
    "        tooltip=folium.features.GeoJsonTooltip(\n",
    "            fields=[\n",
    "                'ward',\n",
    "            ],\n",
    "            aliases=[\n",
    "                \"Ward Number: \",\n",
    "            ],\n",
    "            style=(\"background-color: white; color: #333333; font-family: arial; font-size: 12px; padding: 10px;\")\n",
    "            )\n",
    "        )\n",
    "\n",
    "map1.add_child(feature)\n",
    "map1.keep_in_front(feature)\n",
    "\n",
    "\n",
    "map1"
   ]
  },
  {
   "cell_type": "code",
   "execution_count": null,
   "id": "e8919f48",
   "metadata": {},
   "outputs": [],
   "source": [
    "district_geo = r'https://data.cityofchicago.org/api/geospatial/fthy-xz3r?method=export&format=GeoJSON'\n",
    "\n",
    "#calculating total number of incidents per district\n",
    "DisData = pd.DataFrame(df['district'].value_counts(ascending=True).astype(float))\n",
    "DisData = DisData.reset_index()\n",
    "\n",
    "\n",
    "DisData.columns = ['district', 'Crime_Count']\n",
    " \n",
    "#myscale = (DisData['Crime_Count'].quantile((0,0.40,0.60,0.9,0.98,1))).tolist()\n",
    "\n",
    "map2 = folium.Map(location=[41.815117282, -87.669999562], zoom_start=11, )#tiles='Mapbox Bright')\n",
    "map2.choropleth(geo_data = district_geo, \n",
    "                data = DisData,\n",
    "                columns = ['district', 'Crime_Count'],\n",
    "                key_on = 'feature.properties.dist_num',\n",
    "                fill_color = 'Reds', \n",
    "                fill_opacity = 0.7, \n",
    "                line_opacity = 0.2,\n",
    "                #threshold_scale=myscale,\n",
    "                highlight=True,\n",
    "                legend_name = 'Number of incidents per police district',\n",
    "\n",
    "               )\n",
    "\n",
    "\n",
    "feature = folium.features.GeoJson(\n",
    "        district_geo,\n",
    "        style_function=style_function,\n",
    "        control=True,\n",
    "        highlight_function=highlight_function,\n",
    "        tooltip=folium.features.GeoJsonTooltip(\n",
    "            fields=[\n",
    "                'dist_num',\n",
    "                'dist_label',\n",
    "            ],\n",
    "            aliases=[\n",
    "                \"District Number: \",\n",
    "                \"District Label: \"\n",
    "            ],\n",
    "            style=(\"background-color: white; color: #333333; font-family: arial; font-size: 12px; padding: 10px;\")\n",
    "            )\n",
    "        )\n",
    "\n",
    "        \n",
    "map2.add_child(feature)\n",
    "map2.keep_in_front(feature)\n",
    "\n",
    "map2"
   ]
  },
  {
   "cell_type": "code",
   "execution_count": null,
   "id": "aa471465",
   "metadata": {},
   "outputs": [],
   "source": [
    "com_geo = r'https://data.cityofchicago.org/api/geospatial/cauq-8yn6?method=export&format=GeoJSON'\n",
    "\n",
    "#calculating total number of incidents per district\n",
    "ComData = pd.DataFrame(df['community_area'].value_counts().astype(float))\n",
    "ComData = ComData.reset_index()\n",
    "\n",
    "\n",
    "ComData.columns = ['community_area', 'Crime_Count']\n",
    " \n",
    "#myscale = (DisData['Crime_Count'].quantile((0,0.40,0.60,0.9,0.98,1))).tolist()\n",
    "\n",
    "map3 = folium.Map(location=[41.815117282, -87.669999562], zoom_start=11)\n",
    "map3.choropleth(geo_data = com_geo, \n",
    "                data = ComData,\n",
    "                columns = ['community_area', 'Crime_Count'],\n",
    "                key_on = 'feature.properties.area_numbe',\n",
    "                fill_color = 'Reds', \n",
    "                fill_opacity = 0.7, \n",
    "                line_opacity = 0.2,\n",
    "                #threshold_scale=myscale,\n",
    "                highlight=True,\n",
    "                legend_name = 'Number of incidents per police district')\n",
    "\n",
    "feature = folium.features.GeoJson(\n",
    "        com_geo,\n",
    "        style_function=style_function,\n",
    "        control=False,\n",
    "        highlight_function=highlight_function,\n",
    "        tooltip=folium.features.GeoJsonTooltip(\n",
    "            fields=[\n",
    "                'area_numbe',\n",
    "                'community',\n",
    "                  \n",
    "            ],\n",
    "            aliases=[\n",
    "                \"Area Number: \",\n",
    "                \"Name: \"\n",
    "            ],\n",
    "            style=(\"background-color: white; color: #333333; font-family: arial; font-size: 12px; padding: 10px;\")\n",
    "            )\n",
    "        )\n",
    "\n",
    "    \n",
    "map3.add_child(feature)\n",
    "map3.keep_in_front(feature)\n",
    "\n",
    "map3\n",
    "map3.save(\"chicago_crime_map.html\")\n",
    "map3"
   ]
  },
  {
   "cell_type": "code",
   "execution_count": null,
   "id": "fd8d9757",
   "metadata": {},
   "outputs": [],
   "source": []
  },
  {
   "cell_type": "code",
   "execution_count": null,
   "id": "3d628c28",
   "metadata": {},
   "outputs": [],
   "source": []
  },
  {
   "cell_type": "code",
   "execution_count": null,
   "id": "306e4d83",
   "metadata": {},
   "outputs": [],
   "source": []
  },
  {
   "cell_type": "code",
   "execution_count": null,
   "id": "a8e8ad8f",
   "metadata": {},
   "outputs": [],
   "source": []
  },
  {
   "cell_type": "code",
   "execution_count": null,
   "id": "d7225a76",
   "metadata": {},
   "outputs": [],
   "source": [
    "# Group the data by FBI code and count the number of occurrences\n",
    "offense_counts = df['fbi_code'].value_counts()\n",
    "\n",
    "# Create a bar plot\n",
    "plt.figure(figsize=(12, 6))\n",
    "sns.barplot(x=offense_counts.index, y=offense_counts.values, palette='viridis')\n",
    "plt.title('Number of Offenses by FBI Code')\n",
    "plt.xlabel('FBI Code')\n",
    "plt.ylabel('Number of Occurrences')\n",
    "plt.xticks(rotation=45, ha='right')  # Rotate x-axis labels for better readability\n",
    "plt.tight_layout()\n",
    "plt.show()\n"
   ]
  },
  {
   "cell_type": "code",
   "execution_count": null,
   "id": "48263769",
   "metadata": {},
   "outputs": [],
   "source": [
    "\n",
    "\n",
    "\n"
   ]
  },
  {
   "cell_type": "code",
   "execution_count": null,
   "id": "1309dfec",
   "metadata": {},
   "outputs": [],
   "source": [
    "\n"
   ]
  },
  {
   "cell_type": "code",
   "execution_count": null,
   "id": "a0c52233",
   "metadata": {},
   "outputs": [],
   "source": [
    "\n",
    "\n",
    "# Group the data by both 'FBI Code' and 'Primary Type' and count occurrences\n",
    "crime_counts = df.groupby(['fbi_code', 'primary_type']).size().reset_index(name='Occurrences')\n",
    "\n",
    "# Find the crime type with the majority of occurrences for each FBI code\n",
    "max_occurrence_index = crime_counts.groupby('fbi_code')['Occurrences'].idxmax()\n",
    "\n",
    "# Create a table with the majority crime types for each FBI code\n",
    "majority_crime_types = crime_counts.loc[max_occurrence_index, ['fbi_code', 'primary_type', 'Occurrences']]\n",
    "\n",
    "# Display the table\n",
    "print(majority_crime_types)\n"
   ]
  },
  {
   "cell_type": "code",
   "execution_count": null,
   "id": "f9aabe94",
   "metadata": {},
   "outputs": [],
   "source": [
    "# Create a heatmap to visualize the majority crime types\n",
    "heatmap_data = majority_crime_types.pivot(index='fbi_code', columns='primary_type', values='Occurrences')\n",
    "plt.figure(figsize=(12, 8))\n",
    "sns.heatmap(heatmap_data, cmap='YlGnBu', annot=True, fmt='g', cbar_kws={'label': 'Occurrences'})\n",
    "plt.title('Majority Crime Types for Each FBI Code')\n",
    "plt.xlabel('Primary Type')\n",
    "plt.ylabel('FBI Code')\n",
    "plt.show()\n"
   ]
  },
  {
   "cell_type": "code",
   "execution_count": null,
   "id": "ba51201d",
   "metadata": {},
   "outputs": [],
   "source": [
    "\n",
    "\n",
    "\n",
    "\n",
    "# Check if the dataset contains an 'Arrest' column\n",
    "if 'arrest' in df.columns:\n",
    "    # Calculate the total number of arrests\n",
    "    total_arrests = df['arrest'].sum()\n",
    "\n",
    "    # Display the result\n",
    "    print(f'Total number of arrests: {total_arrests}')\n",
    "else:\n",
    "    print('The dataset does not contain an \"Arrest\" column.')\n"
   ]
  },
  {
   "cell_type": "code",
   "execution_count": null,
   "id": "28c41338",
   "metadata": {},
   "outputs": [],
   "source": [
    "# Check if the dataset contains an 'Arrest' column\n",
    "if 'id' in df.columns:\n",
    "    # Calculate the total number of arrests\n",
    "    total_arrests = df['id'].sum()\n",
    "\n",
    "    # Display the result\n",
    "    print(f'Total number of arrests: {total_arrests}')\n",
    "else:\n",
    "    print('The dataset does not contain an \"Arrest\" column.')"
   ]
  },
  {
   "cell_type": "code",
   "execution_count": null,
   "id": "f38f0efb",
   "metadata": {},
   "outputs": [],
   "source": [
    "\n",
    "\n",
    "# Check if the dataset contains columns for 'Arrest' and 'ID' (assuming 'ID' is a unique identifier for each crime)\n",
    "if 'arrest' in df.columns and 'id' in df.columns:\n",
    "    # Calculate the total number of crimes and arrests\n",
    "    total_crimes = df['id'].count()\n",
    "    total_arrests = df['arrest'].sum()\n",
    "\n",
    "    # Create a bar plot\n",
    "    plt.figure(figsize=(8, 6))\n",
    "    plt.bar(['Total Crimes', 'Total Arrests'], [total_crimes, total_arrests], color=['blue', 'green'])\n",
    "    plt.title('Total Crimes and Total Arrests')\n",
    "    plt.ylabel('Count')\n",
    "    plt.show()\n",
    "else:\n",
    "    print('The dataset is missing necessary columns (e.g., \"Arrest\" or \"ID\"). Please check your dataset.')\n"
   ]
  },
  {
   "cell_type": "code",
   "execution_count": null,
   "id": "a74d2190",
   "metadata": {},
   "outputs": [],
   "source": [
    "print(df.columns)"
   ]
  }
 ],
 "metadata": {
  "kernelspec": {
   "display_name": "Python 3 (ipykernel)",
   "language": "python",
   "name": "python3"
  },
  "language_info": {
   "codemirror_mode": {
    "name": "ipython",
    "version": 3
   },
   "file_extension": ".py",
   "mimetype": "text/x-python",
   "name": "python",
   "nbconvert_exporter": "python",
   "pygments_lexer": "ipython3",
   "version": "3.9.7"
  }
 },
 "nbformat": 4,
 "nbformat_minor": 5
}
